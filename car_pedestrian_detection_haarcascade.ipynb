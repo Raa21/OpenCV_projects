{
 "cells": [
  {
   "cell_type": "code",
   "execution_count": 1,
   "id": "23a5b9f2",
   "metadata": {},
   "outputs": [],
   "source": [
    "import tensorflow as tf"
   ]
  },
  {
   "cell_type": "code",
   "execution_count": 2,
   "id": "6aba57b0",
   "metadata": {},
   "outputs": [
    {
     "data": {
      "text/plain": [
       "'2.9.1'"
      ]
     },
     "execution_count": 2,
     "metadata": {},
     "output_type": "execute_result"
    }
   ],
   "source": [
    "tf.__version__"
   ]
  },
  {
   "cell_type": "code",
   "execution_count": 3,
   "id": "bac5933a",
   "metadata": {},
   "outputs": [],
   "source": [
    "import cv2"
   ]
  },
  {
   "cell_type": "code",
   "execution_count": 4,
   "id": "b47104d5",
   "metadata": {},
   "outputs": [
    {
     "data": {
      "text/plain": [
       "'4.1.2'"
      ]
     },
     "execution_count": 4,
     "metadata": {},
     "output_type": "execute_result"
    }
   ],
   "source": [
    "cv2.__version__"
   ]
  },
  {
   "cell_type": "code",
   "execution_count": 5,
   "id": "7d0a954c",
   "metadata": {},
   "outputs": [],
   "source": [
    "import cv2\n",
    "import numpy as np\n",
    "from matplotlib import pyplot as plt\n",
    "\n",
    "# Define our imshow function \n",
    "def imshow(title = \"Image\", image = None, size = 10):\n",
    "    w, h = image.shape[0], image.shape[1]\n",
    "    aspect_ratio = w/h\n",
    "    plt.figure(figsize=(size * aspect_ratio,size))\n",
    "    plt.imshow(cv2.cvtColor(image, cv2.COLOR_BGR2RGB))\n",
    "    plt.title(title)\n",
    "    plt.show()"
   ]
  },
  {
   "cell_type": "code",
   "execution_count": 8,
   "id": "c51d946d",
   "metadata": {},
   "outputs": [],
   "source": [
    "cap = cv2.VideoCapture(\"C:/Users/rajen/Computer Vision/videos/walking.mp4\")\n",
    "\n",
    "# Get the height and width of the frame (required to be an interfer)\n",
    "w = int(cap.get(3))\n",
    "h = int(cap.get(4))\n",
    "\n",
    "# Define the codec and create VideoWriter object.The output is stored in 'walking_output.avi' file.\n",
    "out = cv2.VideoWriter('C:/Users/rajen/Computer Vision/videos/walking_output.avi', cv2.VideoWriter_fourcc('M','J','P','G'), 30, (w, h))\n",
    "\n",
    "body_detector = cv2.CascadeClassifier(\"C:/Users/rajen/Computer Vision/OpenCV/OpenCV/haarcascades/Haarcascades/haarcascade_fullbody.xml\")\n",
    "\n",
    "# Loop once video is successfully loaded\n",
    "while(True):\n",
    "\n",
    "  ret, frame = cap.read()\n",
    "  if ret: \n",
    "\n",
    "    gray = cv2.cvtColor(frame, cv2.COLOR_BGR2GRAY)\n",
    "\n",
    "    # Pass frame to our body classifier\n",
    "    bodies = body_detector.detectMultiScale(gray, 1.2, 3)\n",
    "\n",
    "    # Extract bounding boxes for any bodies identified\n",
    "    for (x,y,w,h) in bodies:\n",
    "        cv2.rectangle(frame, (x, y), (x+w, y+h), (0, 255, 255), 2)\n",
    "    \n",
    "    # Write the frame into the file 'output.avi'\n",
    "    out.write(frame)\n",
    "  else:\n",
    "      break\n",
    "\n",
    "cap.release()\n",
    "out.release()"
   ]
  },
  {
   "cell_type": "code",
   "execution_count": 7,
   "id": "b2668912",
   "metadata": {},
   "outputs": [],
   "source": [
    "cap = cv2.VideoCapture('C:/Users/rajen/Computer Vision/videos/cars.mp4')\n",
    "\n",
    "# Get the height and width of the frame (required to be an interfer)\n",
    "w = int(cap.get(3))\n",
    "h = int(cap.get(4))\n",
    "\n",
    "# Define the codec and create VideoWriter object.The output is stored in 'outpy.avi' file.\n",
    "out = cv2.VideoWriter('C:/Users/rajen/Computer Vision/videos/cars_output.avi', cv2.VideoWriter_fourcc('M','J','P','G'), 30, (w, h))\n",
    "\n",
    "vehicle_detector = cv2.CascadeClassifier('C:/Users/rajen/Computer Vision/OpenCV/OpenCV/haarcascades/Haarcascades/haarcascade_car.xml')\n",
    "\n",
    "# Loop once video is successfully loaded\n",
    "while(True):\n",
    "\n",
    "  ret, frame = cap.read()\n",
    "  if ret: \n",
    "\n",
    "    gray = cv2.cvtColor(frame, cv2.COLOR_BGR2GRAY)\n",
    "\n",
    "    # Pass frame to our body classifier\n",
    "    vehicles = vehicle_detector.detectMultiScale(gray, 1.2, 3)\n",
    "\n",
    "    # Extract bounding boxes for any bodies identified\n",
    "    for (x,y,w,h) in vehicles:\n",
    "        cv2.rectangle(frame, (x, y), (x+w, y+h), (0, 255, 255), 2)\n",
    "    \n",
    "    # Write the frame into the file 'output.avi'\n",
    "    out.write(frame)\n",
    "  else:\n",
    "      break\n",
    "\n",
    "cap.release()\n",
    "out.release()"
   ]
  },
  {
   "cell_type": "code",
   "execution_count": null,
   "id": "56336221",
   "metadata": {},
   "outputs": [],
   "source": []
  }
 ],
 "metadata": {
  "kernelspec": {
   "display_name": "Python 3 (ipykernel)",
   "language": "python",
   "name": "python3"
  },
  "language_info": {
   "codemirror_mode": {
    "name": "ipython",
    "version": 3
   },
   "file_extension": ".py",
   "mimetype": "text/x-python",
   "name": "python",
   "nbconvert_exporter": "python",
   "pygments_lexer": "ipython3",
   "version": "3.7.13"
  }
 },
 "nbformat": 4,
 "nbformat_minor": 5
}
